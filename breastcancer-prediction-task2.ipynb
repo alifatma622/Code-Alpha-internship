{
 "cells": [
  {
   "cell_type": "markdown",
   "metadata": {},
   "source": [
    "# Import necessary libraries"
   ]
  },
  {
   "cell_type": "code",
   "execution_count": 1,
   "metadata": {
    "execution": {
     "iopub.execute_input": "2023-10-04T04:18:11.525089Z",
     "iopub.status.busy": "2023-10-04T04:18:11.524761Z",
     "iopub.status.idle": "2023-10-04T04:18:37.556978Z",
     "shell.execute_reply": "2023-10-04T04:18:37.555509Z",
     "shell.execute_reply.started": "2023-10-04T04:18:11.525062Z"
    }
   },
   "outputs": [
    {
     "name": "stdout",
     "output_type": "stream",
     "text": [
      "Collecting neattext\n",
      "  Downloading neattext-0.1.3-py3-none-any.whl (114 kB)\n",
      "\u001b[2K     \u001b[90m━━━━━━━━━━━━━━━━━━━━━━━━━━━━━━━━━━━━━━━\u001b[0m \u001b[32m114.7/114.7 kB\u001b[0m \u001b[31m3.4 MB/s\u001b[0m eta \u001b[36m0:00:00\u001b[0m\n",
      "\u001b[?25hInstalling collected packages: neattext\n",
      "Successfully installed neattext-0.1.3\n"
     ]
    }
   ],
   "source": [
    "import numpy as np\n",
    "import pandas as pd\n",
    "import matplotlib.pyplot as plt\n",
    "import seaborn as sns\n",
    "import re\n",
    "import string\n",
    "import nltk\n",
    "from nltk.corpus import stopwords\n",
    "from nltk.stem import LancasterStemmer\n",
    "from collections import Counter\n",
    "from sklearn.model_selection import train_test_split\n",
    "from sklearn.preprocessing import LabelEncoder\n",
    "from sklearn.metrics import classification_report, accuracy_score\n",
    "from tensorflow.keras.preprocessing.sequence import pad_sequences\n",
    "from tensorflow.keras.preprocessing.text import Tokenizer\n",
    "from tensorflow.keras.models import Sequential\n",
    "from tensorflow.keras.layers import Embedding, LSTM, Dense, Dropout, SpatialDropout1D\n",
    "from tensorflow.keras.callbacks import EarlyStopping\n",
    "from tqdm import tqdm\n",
    "import plotly.express as plx\n",
    "from sklearn.metrics import classification_report\n",
    "import keras\n",
    "from keras.layers import Embedding,Dense,LSTM,Bidirectional,GlobalMaxPooling1D,Input,Dropout\n",
    "from sklearn.ensemble import RandomForestClassifier\n",
    "from sklearn.metrics import confusion_matrix,classification_report\n",
    "from keras.models import Sequential\n",
    "import tensorflow as tf\n",
    "from sklearn.preprocessing import LabelEncoder\n",
    "from keras.preprocessing.text import Tokenizer\n",
    "#from keras_preprocessing.sequence import pad_sequences\n",
    "from tensorflow.keras.preprocessing.sequence import pad_sequences\n",
    "from tqdm import tqdm\n",
    "import seaborn as sns\n",
    "\n",
    "import pickle\n",
    "import warnings\n",
    "warnings.filterwarnings('ignore')\n",
    "!pip install neattext\n",
    "import neattext.functions as nfx"
   ]
  },
  {
   "cell_type": "code",
   "execution_count": 17,
   "metadata": {
    "execution": {
     "iopub.execute_input": "2023-10-04T04:23:47.133602Z",
     "iopub.status.busy": "2023-10-04T04:23:47.133277Z",
     "iopub.status.idle": "2023-10-04T04:23:47.161574Z",
     "shell.execute_reply": "2023-10-04T04:23:47.160809Z",
     "shell.execute_reply.started": "2023-10-04T04:23:47.133579Z"
    }
   },
   "outputs": [],
   "source": [
    "import seaborn as sns \n",
    "from sklearn.compose import make_column_transformer\n",
    "from sklearn.preprocessing import StandardScaler\n",
    "from sklearn.model_selection import train_test_split\n",
    "from sklearn.linear_model import LogisticRegression\n",
    "from sklearn.metrics import precision_score, recall_score, f1_score\n",
    "import tensorflow as tf\n",
    "from tensorflow.keras import callbacks\n",
    "from tensorflow.keras.callbacks import EarlyStopping"
   ]
  },
  {
   "cell_type": "markdown",
   "metadata": {},
   "source": [
    "# Reading Data"
   ]
  },
  {
   "cell_type": "code",
   "execution_count": 3,
   "metadata": {
    "execution": {
     "iopub.execute_input": "2023-10-04T04:19:28.122892Z",
     "iopub.status.busy": "2023-10-04T04:19:28.122326Z",
     "iopub.status.idle": "2023-10-04T04:19:28.149953Z",
     "shell.execute_reply": "2023-10-04T04:19:28.148738Z",
     "shell.execute_reply.started": "2023-10-04T04:19:28.122851Z"
    }
   },
   "outputs": [
    {
     "name": "stdout",
     "output_type": "stream",
     "text": [
      "           ID Diagnosis  radius1  texture1  perimeter1   area1\n",
      "0      842517         M    20.57     17.77      132.90  1326.0\n",
      "1    84300903         M    19.69     21.25      130.00  1203.0\n",
      "2    84348301         M    11.42     20.38       77.58   386.1\n",
      "3    84358402         M    20.29     14.34      135.10  1297.0\n",
      "4      843786         M    12.45     15.70       82.57   477.1\n",
      "..        ...       ...      ...       ...         ...     ...\n",
      "563    926424         M    21.56     22.39      142.00  1479.0\n",
      "564    926682         M    20.13     28.25      131.20  1261.0\n",
      "565    926954         M    16.60     28.08      108.30   858.1\n",
      "566    927241         M    20.60     29.33      140.10  1265.0\n",
      "567     92751         B     7.76     24.54       47.92   181.0\n",
      "\n",
      "[568 rows x 6 columns]\n"
     ]
    }
   ],
   "source": [
    "\n",
    "data = pd.read_csv('/kaggle/input/breast-cancer-classification/wdbc.data')\n",
    "\n",
    "selected_features = data.iloc[:, :6]  # Selects the first 6 columns\n",
    "selected_features.columns = ['ID','Diagnosis','radius1','texture1','perimeter1','area1']\n",
    "print(selected_features)\n"
   ]
  },
  {
   "cell_type": "markdown",
   "metadata": {},
   "source": [
    "# Data Exploration"
   ]
  },
  {
   "cell_type": "code",
   "execution_count": 4,
   "metadata": {
    "execution": {
     "iopub.execute_input": "2023-10-04T04:19:29.368292Z",
     "iopub.status.busy": "2023-10-04T04:19:29.367866Z",
     "iopub.status.idle": "2023-10-04T04:19:29.386567Z",
     "shell.execute_reply": "2023-10-04T04:19:29.385284Z",
     "shell.execute_reply.started": "2023-10-04T04:19:29.368259Z"
    }
   },
   "outputs": [
    {
     "data": {
      "text/plain": [
       "Diagnosis\n",
       "B    357\n",
       "M    211\n",
       "Name: count, dtype: int64"
      ]
     },
     "execution_count": 4,
     "metadata": {},
     "output_type": "execute_result"
    }
   ],
   "source": [
    "selected_features['Diagnosis'].value_counts()"
   ]
  },
  {
   "cell_type": "code",
   "execution_count": 5,
   "metadata": {
    "execution": {
     "iopub.execute_input": "2023-10-04T04:19:29.904416Z",
     "iopub.status.busy": "2023-10-04T04:19:29.902789Z",
     "iopub.status.idle": "2023-10-04T04:19:29.917708Z",
     "shell.execute_reply": "2023-10-04T04:19:29.915106Z",
     "shell.execute_reply.started": "2023-10-04T04:19:29.904352Z"
    }
   },
   "outputs": [
    {
     "data": {
      "text/plain": [
       "array(['B', 'M'], dtype=object)"
      ]
     },
     "execution_count": 5,
     "metadata": {},
     "output_type": "execute_result"
    }
   ],
   "source": [
    "selected_features['Diagnosis'].value_counts().index.values"
   ]
  },
  {
   "cell_type": "code",
   "execution_count": 6,
   "metadata": {
    "execution": {
     "iopub.execute_input": "2023-10-04T04:19:30.311107Z",
     "iopub.status.busy": "2023-10-04T04:19:30.310252Z",
     "iopub.status.idle": "2023-10-04T04:19:30.321387Z",
     "shell.execute_reply": "2023-10-04T04:19:30.320060Z",
     "shell.execute_reply.started": "2023-10-04T04:19:30.311066Z"
    }
   },
   "outputs": [
    {
     "data": {
      "text/plain": [
       "Index(['ID', 'Diagnosis', 'radius1', 'texture1', 'perimeter1', 'area1'], dtype='object')"
      ]
     },
     "execution_count": 6,
     "metadata": {},
     "output_type": "execute_result"
    }
   ],
   "source": [
    "selected_features.columns"
   ]
  },
  {
   "cell_type": "code",
   "execution_count": 7,
   "metadata": {
    "execution": {
     "iopub.execute_input": "2023-10-04T04:19:30.771438Z",
     "iopub.status.busy": "2023-10-04T04:19:30.771038Z",
     "iopub.status.idle": "2023-10-04T04:19:30.779592Z",
     "shell.execute_reply": "2023-10-04T04:19:30.778316Z",
     "shell.execute_reply.started": "2023-10-04T04:19:30.771409Z"
    }
   },
   "outputs": [
    {
     "data": {
      "text/plain": [
       "(568, 6)"
      ]
     },
     "execution_count": 7,
     "metadata": {},
     "output_type": "execute_result"
    }
   ],
   "source": [
    "selected_features.shape"
   ]
  },
  {
   "cell_type": "code",
   "execution_count": 8,
   "metadata": {
    "execution": {
     "iopub.execute_input": "2023-10-04T04:19:31.151349Z",
     "iopub.status.busy": "2023-10-04T04:19:31.150993Z",
     "iopub.status.idle": "2023-10-04T04:19:31.161707Z",
     "shell.execute_reply": "2023-10-04T04:19:31.159999Z",
     "shell.execute_reply.started": "2023-10-04T04:19:31.151323Z"
    }
   },
   "outputs": [
    {
     "data": {
      "text/plain": [
       "array(['M', 'B'], dtype=object)"
      ]
     },
     "execution_count": 8,
     "metadata": {},
     "output_type": "execute_result"
    }
   ],
   "source": [
    "selected_features['Diagnosis'].unique()"
   ]
  },
  {
   "cell_type": "code",
   "execution_count": 9,
   "metadata": {
    "execution": {
     "iopub.execute_input": "2023-10-04T04:19:31.566269Z",
     "iopub.status.busy": "2023-10-04T04:19:31.565847Z",
     "iopub.status.idle": "2023-10-04T04:19:32.438427Z",
     "shell.execute_reply": "2023-10-04T04:19:32.437324Z",
     "shell.execute_reply.started": "2023-10-04T04:19:31.566240Z"
    }
   },
   "outputs": [
    {
     "data": {
      "image/png": "[encoded data removed]",
      "text/plain": [
       "<Figure size 800x800 with 6 Axes>"
      ]
     },
     "metadata": {},
     "output_type": "display_data"
    }
   ],
   "source": [
    "selected_features.hist(figsize=(8,8),)\n",
    "plt.show()"
   ]
  },
  {
   "cell_type": "markdown",
   "metadata": {},
   "source": [
    "# Data visualizations"
   ]
  },
  {
   "cell_type": "code",
   "execution_count": 10,
   "metadata": {
    "execution": {
     "iopub.execute_input": "2023-10-04T04:19:32.753824Z",
     "iopub.status.busy": "2023-10-04T04:19:32.752756Z",
     "iopub.status.idle": "2023-10-04T04:19:33.251831Z",
     "shell.execute_reply": "2023-10-04T04:19:33.250588Z",
     "shell.execute_reply.started": "2023-10-04T04:19:32.753771Z"
    }
   },
   "outputs": [
    {
     "data": {
      "text/plain": [
       "Text(0, 0.5, 'Diagnosis')"
      ]
     },
     "execution_count": 10,
     "metadata": {},
     "output_type": "execute_result"
    },
    {
     "data": {
      "image/png": "[encoded data removed]",
      "text/plain": [
       "<Figure size 1200x600 with 1 Axes>"
      ]
     },
     "metadata": {},
     "output_type": "display_data"
    }
   ],
   "source": [
    "plt.figure(figsize=(12,6))\n",
    "counts = selected_features['Diagnosis'].value_counts()\n",
    "sns.barplot(x=counts, y=counts.index)  \n",
    "plt.xlabel('Count',fontsize=14, fontweight='bold')\n",
    "plt.ylabel('Diagnosis',fontsize=14, fontweight='bold')"
   ]
  },
  {
   "cell_type": "code",
   "execution_count": null,
   "metadata": {},
   "outputs": [],
   "source": []
  },
  {
   "cell_type": "markdown",
   "metadata": {},
   "source": [
    "# Creating train and test dataset"
   ]
  },
  {
   "cell_type": "code",
   "execution_count": 14,
   "metadata": {
    "execution": {
     "iopub.execute_input": "2023-10-04T04:22:13.520169Z",
     "iopub.status.busy": "2023-10-04T04:22:13.519802Z",
     "iopub.status.idle": "2023-10-04T04:22:13.527824Z",
     "shell.execute_reply": "2023-10-04T04:22:13.527089Z",
     "shell.execute_reply.started": "2023-10-04T04:22:13.520141Z"
    }
   },
   "outputs": [],
   "source": [
    "X = selected_features.drop(\"Diagnosis\", axis=1)\n",
    "y = selected_features[\"Diagnosis\"]\n",
    "\n",
    "X_train, X_test, y_train, y_test = train_test_split(X, y, test_size=0.2, random_state=42)\n"
   ]
  },
  {
   "cell_type": "code",
   "execution_count": 15,
   "metadata": {
    "execution": {
     "iopub.execute_input": "2023-10-04T04:22:16.334481Z",
     "iopub.status.busy": "2023-10-04T04:22:16.333570Z",
     "iopub.status.idle": "2023-10-04T04:22:16.343916Z",
     "shell.execute_reply": "2023-10-04T04:22:16.342813Z",
     "shell.execute_reply.started": "2023-10-04T04:22:16.334452Z"
    }
   },
   "outputs": [],
   "source": [
    "\n",
    "from sklearn.preprocessing import StandardScaler\n",
    "scaler = StandardScaler()\n",
    "X_train = scaler.fit_transform(X_train)\n",
    "X_test = scaler.transform(X_test)"
   ]
  },
  {
   "cell_type": "markdown",
   "metadata": {},
   "source": [
    "# Logistic regression"
   ]
  },
  {
   "cell_type": "code",
   "execution_count": 20,
   "metadata": {
    "execution": {
     "iopub.execute_input": "2023-10-04T04:24:53.966733Z",
     "iopub.status.busy": "2023-10-04T04:24:53.966263Z",
     "iopub.status.idle": "2023-10-04T04:24:53.979852Z",
     "shell.execute_reply": "2023-10-04T04:24:53.978623Z",
     "shell.execute_reply.started": "2023-10-04T04:24:53.966700Z"
    }
   },
   "outputs": [],
   "source": [
    "reg_model = LogisticRegression().fit(X_train, y_train)\n",
    "y_pred = reg_model.predict(X_test)"
   ]
  },
  {
   "cell_type": "code",
   "execution_count": 22,
   "metadata": {
    "execution": {
     "iopub.execute_input": "2023-10-04T04:25:46.751112Z",
     "iopub.status.busy": "2023-10-04T04:25:46.750726Z",
     "iopub.status.idle": "2023-10-04T04:25:46.758628Z",
     "shell.execute_reply": "2023-10-04T04:25:46.757588Z",
     "shell.execute_reply.started": "2023-10-04T04:25:46.751086Z"
    }
   },
   "outputs": [
    {
     "name": "stdout",
     "output_type": "stream",
     "text": [
      "Accuracy: 0.8421052631578947\n"
     ]
    }
   ],
   "source": [
    "# Evaluate the model on the testing data\n",
    "accuracy = reg_model.score(X_test, y_test)\n",
    "print(\"Accuracy:\", accuracy)  "
   ]
  },
  {
   "cell_type": "code",
   "execution_count": 24,
   "metadata": {
    "execution": {
     "iopub.execute_input": "2023-10-04T04:38:02.362294Z",
     "iopub.status.busy": "2023-10-04T04:38:02.361921Z",
     "iopub.status.idle": "2023-10-04T04:38:02.368590Z",
     "shell.execute_reply": "2023-10-04T04:38:02.367708Z",
     "shell.execute_reply.started": "2023-10-04T04:38:02.362269Z"
    }
   },
   "outputs": [],
   "source": [
    "from sklearn.metrics import *\n",
    "def evaluate(test, pred):\n",
    "    accuracy = accuracy_score(test, pred)\n",
    "    cf_report = classification_report(test, pred)\n",
    "    precision = precision_score(test, pred, average='macro')\n",
    "    recall = recall_score(test, pred, average='macro')\n",
    "    f1 = f1_score(test, pred, average='macro')\n",
    "    \n",
    "    print('Accuracy', accuracy)\n",
    "    print('Classification Report', cf_report)\n",
    "    print('Precision', precision)\n",
    "    print('Recall', recall)\n",
    "    print('F1-Score', f1)"
   ]
  },
  {
   "cell_type": "code",
   "execution_count": 25,
   "metadata": {
    "execution": {
     "iopub.execute_input": "2023-10-04T04:39:26.425153Z",
     "iopub.status.busy": "2023-10-04T04:39:26.424784Z",
     "iopub.status.idle": "2023-10-04T04:39:26.448916Z",
     "shell.execute_reply": "2023-10-04T04:39:26.447763Z",
     "shell.execute_reply.started": "2023-10-04T04:39:26.425129Z"
    }
   },
   "outputs": [
    {
     "name": "stdout",
     "output_type": "stream",
     "text": [
      "Accuracy 0.8421052631578947\n",
      "Classification Report               precision    recall  f1-score   support\n",
      "\n",
      "           B       0.82      0.94      0.88        68\n",
      "           M       0.89      0.70      0.78        46\n",
      "\n",
      "    accuracy                           0.84       114\n",
      "   macro avg       0.85      0.82      0.83       114\n",
      "weighted avg       0.85      0.84      0.84       114\n",
      "\n",
      "Precision 0.8547008547008547\n",
      "Recall 0.8184143222506394\n",
      "F1-Score 0.828600066822586\n"
     ]
    }
   ],
   "source": [
    "evaluate(y_test,y_pred)"
   ]
  },
  {
   "cell_type": "code",
   "execution_count": 28,
   "metadata": {
    "execution": {
     "iopub.execute_input": "2023-10-04T04:41:12.474999Z",
     "iopub.status.busy": "2023-10-04T04:41:12.474576Z",
     "iopub.status.idle": "2023-10-04T04:41:12.651746Z",
     "shell.execute_reply": "2023-10-04T04:41:12.650728Z",
     "shell.execute_reply.started": "2023-10-04T04:41:12.474967Z"
    }
   },
   "outputs": [
    {
     "data": {
      "image/png": "[encoded data removed]",
      "text/plain": [
       "<Figure size 400x400 with 2 Axes>"
      ]
     },
     "metadata": {},
     "output_type": "display_data"
    }
   ],
   "source": [
    "fig, ax = plt.subplots(figsize=(4, 4))\n",
    "    # Create the confusion matrix\n",
    "cm = confusion_matrix(y_test, y_pred)\n",
    "cmp = ConfusionMatrixDisplay(cm, display_labels=reg_model.classes_)\n",
    "cmp.plot(ax=ax)\n",
    "plt.xticks(rotation=80)\n",
    "plt.tight_layout()\n",
    "plt.show()"
   ]
  },
  {
   "cell_type": "code",
   "execution_count": null,
   "metadata": {},
   "outputs": [],
   "source": []
  }
 ],
 "metadata": {
  "kernelspec": {
   "display_name": "Python 3",
   "language": "python",
   "name": "python3"
  },
  "language_info": {
   "codemirror_mode": {
    "name": "ipython",
    "version": 3
   },
   "file_extension": ".py",
   "mimetype": "text/x-python",
   "name": "python",
   "nbconvert_exporter": "python",
   "pygments_lexer": "ipython3",
   "version": "3.8.8"
  }
 },
 "nbformat": 4,
 "nbformat_minor": 4
}
